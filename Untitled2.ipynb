{
  "nbformat": 4,
  "nbformat_minor": 0,
  "metadata": {
    "colab": {
      "name": "Untitled2.ipynb",
      "provenance": []
    },
    "kernelspec": {
      "name": "python3",
      "display_name": "Python 3"
    }
  },
  "cells": [
    {
      "cell_type": "code",
      "metadata": {
        "id": "P09iTxHbQ8Vd",
        "colab_type": "code",
        "colab": {
          "base_uri": "https://localhost:8080/",
          "height": 85
        },
        "outputId": "12b04677-3216-41c0-b647-682bb20af72b"
      },
      "source": [
        "x = int(input('請輸入第一次期中考成績?'))\n",
        "y = int(input('請輸入第二次期中考成績?'))\n",
        "z = int(input('請輸入期末成績'))\n",
        "總分 = x + y + z\n",
        "平均 = (x + y + z)/3\n",
        "print('總分為', 總分,'平均為', 平均)"
      ],
      "execution_count": 1,
      "outputs": [
        {
          "output_type": "stream",
          "text": [
            "請輸入第一次期中考成績?75\n",
            "請輸入第二次期中考成績?80\n",
            "請輸入期末成績65\n",
            "總分為 220 平均為 73.33333333333333\n"
          ],
          "name": "stdout"
        }
      ]
    },
    {
      "cell_type": "code",
      "metadata": {
        "id": "sKMD6Hu5SNHO",
        "colab_type": "code",
        "colab": {
          "base_uri": "https://localhost:8080/",
          "height": 102
        },
        "outputId": "e3e57e4b-b980-4812-a986-37c79c429e4a"
      },
      "source": [
        "w = int(input('請輸入幾尺'))\n",
        "print(w,'尺')\n",
        "t = int(input('請輸入幾吋'))\n",
        "print(t,'吋')\n",
        "f = (w*12+t)*2.54\n",
        "print('轉換成',f,'公分')\n"
      ],
      "execution_count": 2,
      "outputs": [
        {
          "output_type": "stream",
          "text": [
            "請輸入幾尺5\n",
            "5 尺\n",
            "請輸入幾吋8\n",
            "8 吋\n",
            "轉換成 172.72 公分\n"
          ],
          "name": "stdout"
        }
      ]
    },
    {
      "cell_type": "code",
      "metadata": {
        "id": "6V0sH2M2Sa8D",
        "colab_type": "code",
        "colab": {
          "base_uri": "https://localhost:8080/",
          "height": 51
        },
        "outputId": "750d809c-6a02-46f4-b214-3e3f4994baf5"
      },
      "source": [
        "import math\n",
        "e = int(input('請輸入座號'))\n",
        "l = e/5 #每組五人\n",
        "print('組別為' ,math.ceil(l)) #若分組除下來有餘，則無條件進位\n",
        "\n"
      ],
      "execution_count": 3,
      "outputs": [
        {
          "output_type": "stream",
          "text": [
            "請輸入座號19\n",
            "組別為 4\n"
          ],
          "name": "stdout"
        }
      ]
    },
    {
      "cell_type": "code",
      "metadata": {
        "id": "Lr6PXUadSiBv",
        "colab_type": "code",
        "colab": {
          "base_uri": "https://localhost:8080/",
          "height": 51
        },
        "outputId": "2b15bb89-08e4-4c7b-a3e5-9fa8cc7b5b74"
      },
      "source": [
        "u = int(input('請輸入購買飲料的罐數'))\n",
        "p = u/12 #計算幾打\n",
        "v = int(p)*200 #打的價錢\n",
        "y = int(p) #幾打的整數(例如兩打)\n",
        "l = 12*y  #打數乘上12\n",
        "h = (u - l)*20 #未滿一打的罐數\n",
        "x = h+v #打的價錢+未滿一打的罐數的價錢\n",
        "print('需花費', x) "
      ],
      "execution_count": 4,
      "outputs": [
        {
          "output_type": "stream",
          "text": [
            "請輸入購買飲料的罐數30\n",
            "需花費 520\n"
          ],
          "name": "stdout"
        }
      ]
    },
    {
      "cell_type": "code",
      "metadata": {
        "id": "CdBuznWISr6S",
        "colab_type": "code",
        "colab": {
          "base_uri": "https://localhost:8080/",
          "height": 153
        },
        "outputId": "50284d8a-6a8a-4a77-e567-a4f409ab85f5"
      },
      "source": [
        "print('1KB=',2**10,'Byte')\n",
        "print('1MB=',2**20,'Byte')\n",
        "print('1GB=',2**30,'Byte')\n",
        "print('1TB=',2**40,'Byte')\n",
        "print('1PB=',2**50,'Byte')\n",
        "print('1EB=',2**60,'Byte')\n",
        "print('1ZB=',2**70,'Bute')\n",
        "print('1YB=',2**80,'Byte')\n"
      ],
      "execution_count": 5,
      "outputs": [
        {
          "output_type": "stream",
          "text": [
            "1KB= 1024 Byte\n",
            "1MB= 1048576 Byte\n",
            "1GB= 1073741824 Byte\n",
            "1TB= 1099511627776 Byte\n",
            "1PB= 1125899906842624 Byte\n",
            "1EB= 1152921504606846976 Byte\n",
            "1ZB= 1180591620717411303424 Bute\n",
            "1YB= 1208925819614629174706176 Byte\n"
          ],
          "name": "stdout"
        }
      ]
    },
    {
      "cell_type": "code",
      "metadata": {
        "id": "f9jpzrM8S2Gl",
        "colab_type": "code",
        "colab": {}
      },
      "source": [
        ""
      ],
      "execution_count": 0,
      "outputs": []
    }
  ]
}